{
 "cells": [
  {
   "attachments": {},
   "cell_type": "markdown",
   "metadata": {},
   "source": [
    "# Pytest"
   ]
  },
  {
   "attachments": {},
   "cell_type": "markdown",
   "metadata": {},
   "source": [
    "pytest is a testing framework for Python that simplifies the process of writing and executing tests. It provides a range of features and plugins for efficient test discovery, test execution, test organization, and result reporting. Here's an overview of pytest with examples:\n",
    "\n",
    "Installation:\n",
    "To install pytest, you can use pip:\n",
    "\n"
   ]
  },
  {
   "attachments": {},
   "cell_type": "markdown",
   "metadata": {},
   "source": [
    "```pip install pytest==7.3.1```\n"
   ]
  },
  {
   "attachments": {},
   "cell_type": "markdown",
   "metadata": {},
   "source": [
    "Writing Tests:\n",
    "\n",
    "Tests in pytest are written as regular Python functions. Each test function should start with the word \"test\" and can include assertions to check expected outcomes. Let's consider a simple example where we have a function add() that adds two numbers:"
   ]
  },
  {
   "cell_type": "code",
   "execution_count": 2,
   "metadata": {},
   "outputs": [],
   "source": [
    "def add(a, b):\n",
    "    return a + b\n",
    "\n",
    "def test_add():\n",
    "    assert add(2, 3) == 5\n",
    "    assert add(5, 7) == 12\n",
    "    assert add(10, -5) == 5\n"
   ]
  },
  {
   "attachments": {},
   "cell_type": "markdown",
   "metadata": {},
   "source": [
    "In this example, we define the add() function and write the test_add() function to test its functionality. The test_add() function contains assertions that verify the expected results of adding different pairs of numbers.\n",
    "\n",
    "Running Tests:\n",
    "To run tests using pytest, navigate to the directory containing your test file(s) and execute the following command:"
   ]
  },
  {
   "attachments": {},
   "cell_type": "markdown",
   "metadata": {},
   "source": [
    "```pytest```"
   ]
  },
  {
   "attachments": {},
   "cell_type": "markdown",
   "metadata": {},
   "source": [
    "pytest will automatically discover and run all the test functions defined in the files matching the pattern test_*.py or *_test.py."
   ]
  },
  {
   "attachments": {},
   "cell_type": "markdown",
   "metadata": {},
   "source": [
    "Test Discovery:\n",
    "\n",
    "pytest automatically discovers test functions based on naming conventions and file locations. By default, it searches for files matching the pattern test_*.py or *_test.py. Test functions should be defined inside these files.\n",
    "\n",
    "You can organize your tests into test classes or modules and use various naming conventions to define different types of tests. pytest provides great flexibility in test discovery and allows you to customize the discovery process using configuration files or command-line options.\n",
    "\n",
    "Test Fixtures:\n",
    "\n",
    "Test fixtures in pytest allow you to define reusable setup and teardown code that is executed before and after tests. Fixtures are useful for creating a common test environment, setting up resources, or performing other necessary preparations.\n",
    "\n",
    "Here's an example of using a fixture to set up and tear down a temporary database for testing:"
   ]
  },
  {
   "attachments": {},
   "cell_type": "markdown",
   "metadata": {},
   "source": [
    "In this example, the db fixture creates a temporary database, yields it to the test function, and tears it down after the test completes. The test function test_database_operations() takes the db fixture as an argument and performs tests using the prepared database."
   ]
  },
  {
   "cell_type": "code",
   "execution_count": null,
   "metadata": {},
   "outputs": [],
   "source": [
    "import pytest\n",
    "\n",
    "@pytest.fixture\n",
    "def db():\n",
    "    # Set up temporary database\n",
    "    db = create_temporary_database()\n",
    "    yield db\n",
    "    # Tear down database\n",
    "    db.close()\n",
    "\n",
    "def test_database_operations(db):\n",
    "    # Perform test using the temporary database\n",
    "    db.insert_data(...)\n",
    "    assert db.query_data(...) == expected_result\n"
   ]
  },
  {
   "attachments": {},
   "cell_type": "markdown",
   "metadata": {},
   "source": [
    "Assertions:\n",
    "\n",
    "pytest provides a wide range of built-in assertions for making assertions about the expected behavior of your code. These assertions include equality checks, membership checks, exception handling, and more.\n",
    "\n",
    "For example:"
   ]
  },
  {
   "cell_type": "code",
   "execution_count": 3,
   "metadata": {},
   "outputs": [],
   "source": [
    "def test_assertions():\n",
    "    assert 2 + 2 == 4\n",
    "    assert \"hello\" in \"hello world\"\n",
    "    assert [1, 2, 3] == [1, 2, 3]\n",
    "    with pytest.raises(ValueError):\n",
    "        raise ValueError(\"An error occurred\")\n"
   ]
  },
  {
   "attachments": {},
   "cell_type": "markdown",
   "metadata": {},
   "source": [
    "In this example, we use various assertions like ==, in, and raises() to validate different conditions.\n",
    "\n",
    "Plugins and Extensibility:\n",
    "pytest offers a wide range of plugins that extend its functionality and allow integration with other tools and frameworks. These plugins enable features like code coverage measurement, test parameterization, test ordering, test skipping, and more."
   ]
  },
  {
   "attachments": {},
   "cell_type": "markdown",
   "metadata": {},
   "source": [
    "To use a plugin, you can install it using pip and then specify the plugin name in the command-line options or configuration files. Here's an example of using the pytest-cov plugin for code coverage measurement:"
   ]
  },
  {
   "attachments": {},
   "cell_type": "markdown",
   "metadata": {},
   "source": [
    "1. Install the plugin:"
   ]
  },
  {
   "attachments": {},
   "cell_type": "markdown",
   "metadata": {},
   "source": [
    "```pip install pytest-cov```"
   ]
  },
  {
   "attachments": {},
   "cell_type": "markdown",
   "metadata": {},
   "source": [
    "Run tests with code coverage measurement:"
   ]
  },
  {
   "attachments": {},
   "cell_type": "markdown",
   "metadata": {},
   "source": [
    "```pytest --cov=my_package tests/```"
   ]
  },
  {
   "attachments": {},
   "cell_type": "markdown",
   "metadata": {},
   "source": [
    "In this example, the pytest-cov plugin measures code coverage while running the tests. It generates a coverage report indicating which parts of the code were executed during the tests."
   ]
  },
  {
   "attachments": {},
   "cell_type": "markdown",
   "metadata": {},
   "source": [
    "Additionally, pytest supports customizing and extending its behavior through hooks, command-line options, and configuration files. This flexibility allows you to tailor the testing process according to your specific requirements.\n",
    "\n",
    "pytest has many more features and capabilities, including test parametrization, test skipping, test markers, and more. Exploring the official pytest documentation (https://docs.pytest.org/) will provide further insights into the extensive functionality offered by the framework.\n",
    "\n",
    "Overall, pytest is a powerful and user-friendly testing framework that simplifies the process of writing and executing tests in Python, making it an excellent choice for testing your Python codebase."
   ]
  },
  {
   "cell_type": "code",
   "execution_count": null,
   "metadata": {},
   "outputs": [],
   "source": []
  }
 ],
 "metadata": {
  "kernelspec": {
   "display_name": "Python 3",
   "language": "python",
   "name": "python3"
  },
  "language_info": {
   "codemirror_mode": {
    "name": "ipython",
    "version": 3
   },
   "file_extension": ".py",
   "mimetype": "text/x-python",
   "name": "python",
   "nbconvert_exporter": "python",
   "pygments_lexer": "ipython3",
   "version": "3.10.7"
  },
  "orig_nbformat": 4
 },
 "nbformat": 4,
 "nbformat_minor": 2
}
