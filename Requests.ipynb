{
 "cells": [
  {
   "attachments": {},
   "cell_type": "markdown",
   "metadata": {},
   "source": [
    "# Requests"
   ]
  },
  {
   "attachments": {},
   "cell_type": "markdown",
   "metadata": {},
   "source": [
    "The Requests library is a popular Python library for making HTTP requests. It provides a simple and intuitive API for sending HTTP/1.1 requests and handling the response. Here's an explanation of the Requests library along with some examples:\n",
    "\n",
    "Installation:\n",
    "Before using the Requests library, you need to install it. You can install it using pip with the following command:\n",
    "\n",
    "```pip install requests```\n"
   ]
  },
  {
   "attachments": {},
   "cell_type": "markdown",
   "metadata": {},
   "source": [
    "Making GET Requests:\n",
    "You can make GET requests to retrieve data from a server. Here's an example:"
   ]
  },
  {
   "attachments": {},
   "cell_type": "markdown",
   "metadata": {},
   "source": [
    "In this example, we import the requests module and use the get() function to send a GET request to the specified URL. We then check the response status code to determine if the request was successful (status code 200). If successful, we can access the response data using the .json() method, which parses the response content as JSON."
   ]
  },
  {
   "cell_type": "code",
   "execution_count": null,
   "metadata": {},
   "outputs": [],
   "source": [
    "import requests\n",
    "\n",
    "# Send a GET request\n",
    "response = requests.get('https://api.example.com/data')\n",
    "\n",
    "# Check the response status code\n",
    "if response.status_code == 200:\n",
    "    # Request was successful\n",
    "    data = response.json()  # Get the response data as JSON\n",
    "    print(data)\n",
    "else:\n",
    "    # Request failed\n",
    "    print('Error:', response.status_code)\n"
   ]
  },
  {
   "attachments": {},
   "cell_type": "markdown",
   "metadata": {},
   "source": [
    "Making POST Requests:\n",
    "You can also make POST requests to send data to a server. Here's an example:"
   ]
  },
  {
   "attachments": {},
   "cell_type": "markdown",
   "metadata": {},
   "source": [
    "In this example, we use the post() function to send a POST request to the specified URL. We pass the data as a dictionary using the data parameter. The server will receive this data in the request body."
   ]
  },
  {
   "cell_type": "code",
   "execution_count": null,
   "metadata": {},
   "outputs": [],
   "source": [
    "import requests\n",
    "\n",
    "# Data to be sent in the request body\n",
    "data = {\n",
    "    'name': 'John Doe',\n",
    "    'email': 'johndoe@example.com'\n",
    "}\n",
    "\n",
    "# Send a POST request\n",
    "response = requests.post('https://api.example.com/submit', data=data)\n",
    "\n",
    "# Check the response status code\n",
    "if response.status_code == 200:\n",
    "    # Request was successful\n",
    "    print('Data submitted successfully!')\n",
    "else:\n",
    "    # Request failed\n",
    "    print('Error:', response.status_code)\n"
   ]
  },
  {
   "attachments": {},
   "cell_type": "markdown",
   "metadata": {},
   "source": [
    "Handling Headers and Authentication:\n",
    "Requests allows you to add headers to your requests for additional information or authentication. Here's an example:"
   ]
  },
  {
   "attachments": {},
   "cell_type": "markdown",
   "metadata": {},
   "source": [
    "In this example, we define the headers dictionary containing the headers we want to include in the request. We then pass this dictionary to the headers parameter of the get() function."
   ]
  },
  {
   "cell_type": "code",
   "execution_count": null,
   "metadata": {},
   "outputs": [],
   "source": [
    "import requests\n",
    "\n",
    "# Define headers\n",
    "headers = {\n",
    "    'User-Agent': 'My User Agent',\n",
    "    'Authorization': 'Bearer my-token'\n",
    "}\n",
    "\n",
    "# Send a GET request with headers\n",
    "response = requests.get('https://api.example.com/data', headers=headers)\n",
    "\n",
    "# Check the response status code\n",
    "if response.status_code == 200:\n",
    "    # Request was successful\n",
    "    data = response.json()\n",
    "    print(data)\n",
    "else:\n",
    "    # Request failed\n",
    "    print('Error:', response.status_code)\n"
   ]
  },
  {
   "attachments": {},
   "cell_type": "markdown",
   "metadata": {},
   "source": [
    "These are just a few examples of what you can do with the Requests library. It provides many more features like handling cookies, session management, file uploads, and more. You can refer to the Requests documentation for more details and explore the various methods and functionalities it offers."
   ]
  }
 ],
 "metadata": {
  "language_info": {
   "name": "python"
  },
  "orig_nbformat": 4
 },
 "nbformat": 4,
 "nbformat_minor": 2
}
