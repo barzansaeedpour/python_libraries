{
 "cells": [
  {
   "attachments": {},
   "cell_type": "markdown",
   "metadata": {},
   "source": [
    "# Beautiful Soup"
   ]
  },
  {
   "attachments": {},
   "cell_type": "markdown",
   "metadata": {},
   "source": [
    "Beautiful Soup is a Python library used for web scraping purposes. It provides a convenient way to extract data from HTML and XML documents. Beautiful Soup helps parse and navigate the document structure, making it easy to extract the desired information. Here's an explanation of Beautiful Soup along with some examples:"
   ]
  },
  {
   "attachments": {},
   "cell_type": "markdown",
   "metadata": {},
   "source": [
    "``` pip install beautifulsoup4 ```"
   ]
  },
  {
   "attachments": {},
   "cell_type": "markdown",
   "metadata": {},
   "source": [
    "Parsing HTML:\n",
    "Beautiful Soup can parse HTML documents and create a parse tree, which allows you to navigate and search for specific elements. Here's an example:"
   ]
  },
  {
   "attachments": {},
   "cell_type": "markdown",
   "metadata": {},
   "source": [
    "In this example, we import the BeautifulSoup class from the bs4 module. We create a Beautiful Soup object by passing the HTML document and the desired parser (html.parser in this case).\n",
    "\n",
    "We can then access specific elements using dot notation (soup.tag_name) or by navigating the document structure. We extract the title, heading, paragraph, and link from the HTML document and print their text content.\n"
   ]
  },
  {
   "cell_type": "code",
   "execution_count": 1,
   "metadata": {},
   "outputs": [
    {
     "name": "stdout",
     "output_type": "stream",
     "text": [
      "Title: Sample HTML Document\n",
      "Heading: Welcome to Beautiful Soup\n",
      "Paragraph: This is a sample paragraph.\n",
      "Link: https://www.example.com\n"
     ]
    }
   ],
   "source": [
    "\n",
    "from bs4 import BeautifulSoup\n",
    "\n",
    "# HTML document to be parsed\n",
    "html_doc = '''\n",
    "<html>\n",
    "<head>\n",
    "    <title>Sample HTML Document</title>\n",
    "</head>\n",
    "<body>\n",
    "    <h1>Welcome to Beautiful Soup</h1>\n",
    "    <div class=\"content\">\n",
    "        <p>This is a sample paragraph.</p>\n",
    "        <a href=\"https://www.example.com\">Visit Example</a>\n",
    "    </div>\n",
    "</body>\n",
    "</html>\n",
    "'''\n",
    "\n",
    "# Create a Beautiful Soup object\n",
    "soup = BeautifulSoup(html_doc, 'html.parser')\n",
    "\n",
    "# Accessing elements\n",
    "title = soup.title\n",
    "h1 = soup.h1\n",
    "paragraph = soup.div.p\n",
    "link = soup.div.a\n",
    "\n",
    "# Print the element text\n",
    "print('Title:', title.text)\n",
    "print('Heading:', h1.text)\n",
    "print('Paragraph:', paragraph.text)\n",
    "print('Link:', link['href'])\n"
   ]
  },
  {
   "attachments": {},
   "cell_type": "markdown",
   "metadata": {},
   "source": [
    "Searching for Elements:\n",
    "Beautiful Soup provides various methods for searching and filtering elements based on different criteria. Here's an example:"
   ]
  },
  {
   "attachments": {},
   "cell_type": "markdown",
   "metadata": {},
   "source": [
    "In this example, we use the select_one() method to find the first occurrence of an element based on a CSS selector (h1 in this case). We extract the text content of the title.\n",
    "\n",
    "We also use the select() method to find all occurrences of an element based on a CSS selector (.book in this case). We iterate over the results and print the text content of each book."
   ]
  },
  {
   "cell_type": "code",
   "execution_count": 2,
   "metadata": {},
   "outputs": [
    {
     "name": "stdout",
     "output_type": "stream",
     "text": [
      "Title: Books\n",
      "Books:\n",
      "- Book 1\n",
      "- Book 2\n",
      "- Book 3\n"
     ]
    }
   ],
   "source": [
    "from bs4 import BeautifulSoup\n",
    "\n",
    "# HTML document to be parsed\n",
    "html_doc = '''\n",
    "<html>\n",
    "<body>\n",
    "    <div id=\"content\">\n",
    "        <h1>Books</h1>\n",
    "        <ul>\n",
    "            <li class=\"book\">Book 1</li>\n",
    "            <li class=\"book\">Book 2</li>\n",
    "            <li class=\"book\">Book 3</li>\n",
    "        </ul>\n",
    "    </div>\n",
    "</body>\n",
    "</html>\n",
    "'''\n",
    "\n",
    "# Create a Beautiful Soup object\n",
    "soup = BeautifulSoup(html_doc, 'html.parser')\n",
    "\n",
    "# Find elements using CSS selectors\n",
    "title = soup.select_one('h1').text\n",
    "books = soup.select('.book')\n",
    "\n",
    "# Print the results\n",
    "print('Title:', title)\n",
    "print('Books:')\n",
    "for book in books:\n",
    "    print('-', book.text)\n"
   ]
  },
  {
   "attachments": {},
   "cell_type": "markdown",
   "metadata": {},
   "source": [
    "These are just a few examples of what you can do with Beautiful Soup. It offers many more features and methods for navigating and manipulating HTML and XML documents. You can refer to the Beautiful Soup documentation for more details and explore its capabilities further."
   ]
  }
 ],
 "metadata": {
  "kernelspec": {
   "display_name": "Python 3",
   "language": "python",
   "name": "python3"
  },
  "language_info": {
   "codemirror_mode": {
    "name": "ipython",
    "version": 3
   },
   "file_extension": ".py",
   "mimetype": "text/x-python",
   "name": "python",
   "nbconvert_exporter": "python",
   "pygments_lexer": "ipython3",
   "version": "3.10.7"
  },
  "orig_nbformat": 4
 },
 "nbformat": 4,
 "nbformat_minor": 2
}
