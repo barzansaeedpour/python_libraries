{
 "cells": [
  {
   "attachments": {},
   "cell_type": "markdown",
   "metadata": {},
   "source": [
    "# TensorFlow\n",
    "TensorFlow is a popular open-source library for machine learning and deep learning, developed by Google. It provides a flexible and efficient ecosystem for building and deploying machine learning models. TensorFlow allows you to define and train neural networks, perform numerical computations, and handle large-scale data efficiently. Here's an explanation of TensorFlow with examples:"
   ]
  },
  {
   "attachments": {},
   "cell_type": "markdown",
   "metadata": {},
   "source": [
    "### 1. Installation:\n",
    "\n",
    "   Before getting started, you need to install TensorFlow. You can install it using pip:\n",
    "\n",
    "   ```\n",
    "   pip install tensorflow\n",
    "   ```\n",
    "\n",
    "   in order to use GPU with TensorFlow, install tensorflow-gpu:\n",
    "   \n",
    "   ```\n",
    "   pip install tensorflow-gpu\n",
    "   ```\n",
    "\n"
   ]
  },
  {
   "attachments": {},
   "cell_type": "markdown",
   "metadata": {},
   "source": [
    "### 2. TensorFlow Basics:\n",
    "\n",
    "   TensorFlow revolves around the concept of tensors, which are multidimensional arrays. The primary building block is the `tf.Tensor` object, representing the data and operations in a computation graph. Let's see a simple example:\n",
    "   \n",
    "   In this example, we create two constant tensors `a` and `b`, perform addition using the `tf.add()` function, and execute the computation graph within a TensorFlow session.\n",
    "   \n",
    "   "
   ]
  },
  {
   "cell_type": "code",
   "execution_count": 10,
   "metadata": {},
   "outputs": [
    {
     "name": "stdout",
     "output_type": "stream",
     "text": [
      "8\n"
     ]
    }
   ],
   "source": [
    "\n",
    "import tensorflow as tf\n",
    "\n",
    "# Define two constant tensors\n",
    "a = tf.constant(5)\n",
    "b = tf.constant(3)\n",
    "\n",
    "# Perform a computation using the tensors\n",
    "c = tf.add(a, b)\n",
    "\n",
    "# Run the computation\n",
    "result = c.numpy()  # Convert the tensor to a numpy array\n",
    "print(result)\n",
    "\n",
    "\n"
   ]
  },
  {
   "attachments": {},
   "cell_type": "markdown",
   "metadata": {},
   "source": [
    "\n",
    "### 3. Building a Neural Network:\n",
    "\n",
    "   TensorFlow excels in building and training neural networks. Let's look at an example of building a simple feedforward neural network for classification using TensorFlow's high-level API, Keras:\n",
    "\n",
    "\n",
    "   In this example, we use the Keras API provided by TensorFlow to build a neural network with two dense layers. We load the MNIST dataset, preprocess the data, define the model architecture, compile the model with an optimizer and loss function, train the model on the training data, and evaluate its performance on the test data.\n",
    "\n",
    "\n"
   ]
  },
  {
   "cell_type": "code",
   "execution_count": 11,
   "metadata": {},
   "outputs": [
    {
     "name": "stdout",
     "output_type": "stream",
     "text": [
      "Epoch 1/5\n",
      "1875/1875 [==============================] - 14s 6ms/step - loss: 0.2572 - accuracy: 0.9267\n",
      "Epoch 2/5\n",
      "1875/1875 [==============================] - 11s 6ms/step - loss: 0.1109 - accuracy: 0.9666\n",
      "Epoch 3/5\n",
      "1875/1875 [==============================] - 11s 6ms/step - loss: 0.0764 - accuracy: 0.9769\n",
      "Epoch 4/5\n",
      "1875/1875 [==============================] - 11s 6ms/step - loss: 0.0585 - accuracy: 0.9818\n",
      "Epoch 5/5\n",
      "1875/1875 [==============================] - 12s 7ms/step - loss: 0.0444 - accuracy: 0.9860\n",
      "313/313 [==============================] - 3s 7ms/step - loss: 0.0804 - accuracy: 0.9763\n",
      "Test accuracy: 0.9763000011444092\n"
     ]
    }
   ],
   "source": [
    "import tensorflow as tf\n",
    "from tensorflow import keras\n",
    "\n",
    "# Load the MNIST dataset\n",
    "(train_images, train_labels), (test_images, test_labels) = keras.datasets.mnist.load_data()\n",
    "\n",
    "# Preprocess the data\n",
    "train_images = train_images / 255.0\n",
    "test_images = test_images / 255.0\n",
    "\n",
    "# Define the model architecture\n",
    "model = keras.Sequential([\n",
    "    keras.layers.Flatten(input_shape=(28, 28)),\n",
    "    keras.layers.Dense(128, activation='relu'),\n",
    "    keras.layers.Dense(10, activation='softmax')\n",
    "])\n",
    "\n",
    "# Compile the model\n",
    "model.compile(optimizer='adam',\n",
    "                loss='sparse_categorical_crossentropy',\n",
    "                metrics=['accuracy'])\n",
    "\n",
    "# Train the model\n",
    "model.fit(train_images, train_labels, epochs=5)\n",
    "\n",
    "# Evaluate the model\n",
    "test_loss, test_acc = model.evaluate(test_images, test_labels)\n",
    "print('Test accuracy:', test_acc)"
   ]
  },
  {
   "attachments": {},
   "cell_type": "markdown",
   "metadata": {},
   "source": [
    "### 4. TensorFlow for GPU Acceleration:\n",
    "\n",
    "   TensorFlow supports GPU acceleration, which significantly speeds up computations, especially for deep learning models. By utilizing GPUs, you can train models faster and handle larger datasets. Here's an example of enabling GPU acceleration in TensorFlow:\n",
    "\n",
    "   In this example, we first check if a GPU is available using `tf.test.is_gpu_available()`. If a GPU is available, we specify the GPU device (`'/GPU:0'`) for computations and perform the addition operation using TensorFlow. The computation is then executed within a TensorFlow session, utilizing the GPU for accelerated calculations.\n"
   ]
  },
  {
   "cell_type": "code",
   "execution_count": 12,
   "metadata": {},
   "outputs": [
    {
     "name": "stdout",
     "output_type": "stream",
     "text": [
      "GPU is not available!\n",
      "8\n"
     ]
    }
   ],
   "source": [
    "import tensorflow as tf\n",
    "\n",
    "# Check if GPU is available\n",
    "if tf.config.list_physical_devices('GPU'):\n",
    "    print('GPU is available!')\n",
    "else:\n",
    "    print('GPU is not available!')\n",
    "\n",
    "# Perform GPU-accelerated computations\n",
    "a = tf.constant(5)\n",
    "b = tf.constant(3)\n",
    "c = tf.add(a, b)\n",
    "\n",
    "result = c.numpy()  # Convert the tensor to a numpy array\n",
    "print(result)\n"
   ]
  },
  {
   "attachments": {},
   "cell_type": "markdown",
   "metadata": {},
   "source": [
    "\n",
    "### 5. TensorFlow for Distributed Computing:\n",
    "\n",
    "TensorFlow also supports distributed computing, allowing you to train models on multiple machines or devices. This enables you to tackle large-scale machine learning tasks and handle complex models efficiently. Here's a brief example of distributed TensorFlow using the `tf.distribute` module:\n",
    "\n",
    "In this example, we use the `tf.distribute.MirroredStrategy()` to create a distributed strategy. The model architecture is defined within the strategy scope, ensuring that the model and its variables are distributed across multiple devices or machines. We then compile and train the model using the distributed strategy.\n",
    "\n",
    "\n"
   ]
  },
  {
   "cell_type": "code",
   "execution_count": 15,
   "metadata": {},
   "outputs": [
    {
     "name": "stdout",
     "output_type": "stream",
     "text": [
      "WARNING:tensorflow:There are non-GPU devices in `tf.distribute.Strategy`, not using nccl allreduce.\n",
      "INFO:tensorflow:Using MirroredStrategy with devices ('/job:localhost/replica:0/task:0/device:CPU:0',)\n",
      "Epoch 1/5\n",
      "782/782 [==============================] - 34s 41ms/step - loss: 3.6048 - accuracy: 0.0970\n",
      "Epoch 2/5\n",
      "782/782 [==============================] - 37s 48ms/step - loss: 2.3028 - accuracy: 0.0947\n",
      "Epoch 3/5\n",
      "782/782 [==============================] - 42s 54ms/step - loss: 2.3028 - accuracy: 0.0972\n",
      "Epoch 4/5\n",
      "782/782 [==============================] - 43s 55ms/step - loss: 2.3028 - accuracy: 0.0980\n",
      "Epoch 5/5\n",
      "782/782 [==============================] - 44s 57ms/step - loss: 2.3028 - accuracy: 0.0971\n"
     ]
    }
   ],
   "source": [
    "import tensorflow as tf\n",
    "\n",
    "# Define a distributed strategy\n",
    "strategy = tf.distribute.MirroredStrategy()\n",
    "\n",
    "# Define the model architecture\n",
    "with strategy.scope():\n",
    "    model = tf.keras.Sequential([\n",
    "        tf.keras.layers.Conv2D(32, (3, 3), activation='relu', input_shape=(32, 32, 3)),\n",
    "        tf.keras.layers.MaxPooling2D((2, 2)),\n",
    "        tf.keras.layers.Flatten(),\n",
    "        tf.keras.layers.Dense(64, activation='relu'),\n",
    "        tf.keras.layers.Dense(10)\n",
    "    ])\n",
    "\n",
    "    # Compile the model\n",
    "    model.compile(optimizer='adam',\n",
    "                  loss=tf.keras.losses.SparseCategoricalCrossentropy(from_logits=True),\n",
    "                  metrics=['accuracy'])\n",
    "\n",
    "# Create the train_dataset (example using CIFAR-10 dataset)\n",
    "(train_images, train_labels), _ = tf.keras.datasets.cifar10.load_data()\n",
    "train_dataset = tf.data.Dataset.from_tensor_slices((train_images, train_labels)).batch(64)\n",
    "\n",
    "# Train the model\n",
    "history = model.fit(train_dataset, epochs=5)\n"
   ]
  },
  {
   "cell_type": "code",
   "execution_count": 16,
   "metadata": {},
   "outputs": [
    {
     "name": "stdout",
     "output_type": "stream",
     "text": [
      "dict_keys(['loss', 'accuracy'])\n"
     ]
    },
    {
     "data": {
      "image/png": "[encoded data removed]",
      "text/plain": [
       "<Figure size 640x480 with 1 Axes>"
      ]
     },
     "metadata": {},
     "output_type": "display_data"
    }
   ],
   "source": [
    "# Access training history\n",
    "print(history.history.keys())\n",
    "\n",
    "# Example: Plot training loss and accuracy\n",
    "import matplotlib.pyplot as plt\n",
    "\n",
    "plt.plot(history.history['loss'])\n",
    "plt.plot(history.history['accuracy'])\n",
    "plt.xlabel('Epochs')\n",
    "plt.ylabel('Value')\n",
    "plt.legend(['Loss', 'Accuracy'])\n",
    "plt.show()"
   ]
  },
  {
   "attachments": {},
   "cell_type": "markdown",
   "metadata": {},
   "source": [
    "### improve this example:\n",
    "In this updated code, we have made the following improvements:\n",
    "\n",
    "- Added batch normalization layers after each convolutional layer to improve convergence speed and stability.\n",
    "- Added an additional convolutional layer to increase model complexity.\n",
    "- Added a dropout layer after the dense layer to reduce overfitting.\n",
    "- Changed the optimizer to Adam with a lower learning rate for better convergence.\n",
    "- Added data augmentation using random rotations, zooms, and flips to increase dataset variability.\n",
    "- Increased the number of epochs to 10 for more training iterations.\n",
    "\n",
    "Feel free to further modify the model architecture, hyperparameters, or apply other techniques based on your specific requirements and dataset."
   ]
  },
  {
   "cell_type": "code",
   "execution_count": 17,
   "metadata": {},
   "outputs": [
    {
     "name": "stdout",
     "output_type": "stream",
     "text": [
      "WARNING:tensorflow:There are non-GPU devices in `tf.distribute.Strategy`, not using nccl allreduce.\n",
      "INFO:tensorflow:Using MirroredStrategy with devices ('/job:localhost/replica:0/task:0/device:CPU:0',)\n",
      "WARNING:tensorflow:Using a while_loop for converting RngReadAndSkip cause there is no registered converter for this op.\n",
      "WARNING:tensorflow:Using a while_loop for converting Bitcast cause there is no registered converter for this op.\n",
      "WARNING:tensorflow:Using a while_loop for converting Bitcast cause there is no registered converter for this op.\n",
      "WARNING:tensorflow:Using a while_loop for converting StatelessRandomUniformV2 cause there is no registered converter for this op.\n",
      "WARNING:tensorflow:Using a while_loop for converting ImageProjectiveTransformV3 cause there is no registered converter for this op.\n",
      "WARNING:tensorflow:Using a while_loop for converting RngReadAndSkip cause there is no registered converter for this op.\n",
      "WARNING:tensorflow:Using a while_loop for converting Bitcast cause there is no registered converter for this op.\n",
      "WARNING:tensorflow:Using a while_loop for converting Bitcast cause there is no registered converter for this op.\n",
      "WARNING:tensorflow:Using a while_loop for converting StatelessRandomUniformV2 cause there is no registered converter for this op.\n",
      "WARNING:tensorflow:Using a while_loop for converting ImageProjectiveTransformV3 cause there is no registered converter for this op.\n",
      "WARNING:tensorflow:Using a while_loop for converting RngReadAndSkip cause there is no registered converter for this op.\n",
      "WARNING:tensorflow:Using a while_loop for converting Bitcast cause there is no registered converter for this op.\n",
      "WARNING:tensorflow:Using a while_loop for converting Bitcast cause there is no registered converter for this op.\n",
      "WARNING:tensorflow:Using a while_loop for converting StatelessRandomUniformV2 cause there is no registered converter for this op.\n",
      "WARNING:tensorflow:Using a while_loop for converting ImageProjectiveTransformV3 cause there is no registered converter for this op.\n",
      "WARNING:tensorflow:Using a while_loop for converting RngReadAndSkip cause there is no registered converter for this op.\n",
      "WARNING:tensorflow:Using a while_loop for converting Bitcast cause there is no registered converter for this op.\n",
      "WARNING:tensorflow:Using a while_loop for converting Bitcast cause there is no registered converter for this op.\n",
      "WARNING:tensorflow:Using a while_loop for converting StatelessRandomUniformV2 cause there is no registered converter for this op.\n",
      "WARNING:tensorflow:Using a while_loop for converting ImageProjectiveTransformV3 cause there is no registered converter for this op.\n",
      "Epoch 1/10\n",
      "782/782 [==============================] - 129s 160ms/step - loss: 1.9315 - accuracy: 0.3117\n",
      "Epoch 2/10\n",
      "782/782 [==============================] - 132s 169ms/step - loss: 1.7008 - accuracy: 0.3857\n",
      "Epoch 3/10\n",
      "782/782 [==============================] - 131s 167ms/step - loss: 1.6100 - accuracy: 0.4220\n",
      "Epoch 4/10\n",
      "782/782 [==============================] - 116s 148ms/step - loss: 1.5443 - accuracy: 0.4448\n",
      "Epoch 5/10\n",
      "782/782 [==============================] - 116s 149ms/step - loss: 1.4867 - accuracy: 0.4700\n",
      "Epoch 6/10\n",
      "782/782 [==============================] - 120s 154ms/step - loss: 1.4423 - accuracy: 0.4857\n",
      "Epoch 7/10\n",
      "782/782 [==============================] - 139s 177ms/step - loss: 1.4059 - accuracy: 0.5023\n",
      "Epoch 8/10\n",
      "782/782 [==============================] - 139s 177ms/step - loss: 1.3722 - accuracy: 0.5135\n",
      "Epoch 9/10\n",
      "782/782 [==============================] - 149s 191ms/step - loss: 1.3494 - accuracy: 0.5244\n",
      "Epoch 10/10\n",
      "782/782 [==============================] - 156s 199ms/step - loss: 1.3281 - accuracy: 0.5303\n"
     ]
    }
   ],
   "source": [
    "import tensorflow as tf\n",
    "\n",
    "# Define a distributed strategy\n",
    "strategy = tf.distribute.MirroredStrategy()\n",
    "\n",
    "# Define the model architecture\n",
    "with strategy.scope():\n",
    "    model = tf.keras.Sequential([\n",
    "        tf.keras.layers.Conv2D(32, (3, 3), activation='relu', input_shape=(32, 32, 3)),\n",
    "        tf.keras.layers.BatchNormalization(),\n",
    "        tf.keras.layers.MaxPooling2D((2, 2)),\n",
    "        tf.keras.layers.Conv2D(64, (3, 3), activation='relu'),\n",
    "        tf.keras.layers.BatchNormalization(),\n",
    "        tf.keras.layers.MaxPooling2D((2, 2)),\n",
    "        tf.keras.layers.Flatten(),\n",
    "        tf.keras.layers.Dense(128, activation='relu'),\n",
    "        tf.keras.layers.Dropout(0.5),\n",
    "        tf.keras.layers.Dense(10)\n",
    "    ])\n",
    "\n",
    "    # Compile the model\n",
    "    model.compile(optimizer=tf.keras.optimizers.Adam(learning_rate=0.001),\n",
    "                  loss=tf.keras.losses.SparseCategoricalCrossentropy(from_logits=True),\n",
    "                  metrics=['accuracy'])\n",
    "\n",
    "# Create the train_dataset (example using CIFAR-10 dataset)\n",
    "(train_images, train_labels), _ = tf.keras.datasets.cifar10.load_data()\n",
    "train_dataset = tf.data.Dataset.from_tensor_slices((train_images, train_labels)).batch(64)\n",
    "\n",
    "# Define data augmentation\n",
    "data_augmentation = tf.keras.Sequential([\n",
    "    tf.keras.layers.experimental.preprocessing.RandomRotation(0.2),\n",
    "    tf.keras.layers.experimental.preprocessing.RandomZoom(0.2),\n",
    "    tf.keras.layers.experimental.preprocessing.RandomFlip(\"horizontal\")\n",
    "])\n",
    "\n",
    "# Apply data augmentation to the dataset\n",
    "augmented_train_dataset = train_dataset.map(lambda x, y: (data_augmentation(x, training=True), y))\n",
    "\n",
    "# Train the model\n",
    "history = model.fit(augmented_train_dataset, epochs=10)\n"
   ]
  },
  {
   "cell_type": "code",
   "execution_count": 18,
   "metadata": {},
   "outputs": [
    {
     "name": "stdout",
     "output_type": "stream",
     "text": [
      "dict_keys(['loss', 'accuracy'])\n"
     ]
    },
    {
     "data": {
      "image/png": "[encoded data removed]",
      "text/plain": [
       "<Figure size 640x480 with 1 Axes>"
      ]
     },
     "metadata": {},
     "output_type": "display_data"
    }
   ],
   "source": [
    "# Access training history\n",
    "print(history.history.keys())\n",
    "\n",
    "# Example: Plot training loss and accuracy\n",
    "import matplotlib.pyplot as plt\n",
    "\n",
    "plt.plot(history.history['loss'])\n",
    "plt.plot(history.history['accuracy'])\n",
    "plt.xlabel('Epochs')\n",
    "plt.ylabel('Value')\n",
    "plt.legend(['Loss', 'Accuracy'])\n",
    "plt.show()"
   ]
  },
  {
   "cell_type": "code",
   "execution_count": null,
   "metadata": {},
   "outputs": [],
   "source": [
    "import tensorflow as tf\n",
    "\n",
    "# Load the CIFAR-10 dataset\n",
    "(x_train, y_train), (x_test, y_test) = tf.keras.datasets.cifar10.load_data()\n",
    "\n",
    "# Normalize the image data\n",
    "x_train = x_train / 255.0\n",
    "x_test = x_test / 255.0\n",
    "\n",
    "# Convert labels to categorical\n",
    "y_train = tf.keras.utils.to_categorical(y_train, num_classes=10)\n",
    "y_test = tf.keras.utils.to_categorical(y_test, num_classes=10)\n",
    "\n",
    "# Define the model architecture\n",
    "model = tf.keras.Sequential([\n",
    "    tf.keras.layers.Conv2D(32, (3, 3), activation='relu', padding='same', input_shape=(32, 32, 3)),\n",
    "    tf.keras.layers.Conv2D(32, (3, 3), activation='relu', padding='same'),\n",
    "    tf.keras.layers.MaxPooling2D((2, 2)),\n",
    "    tf.keras.layers.Dropout(0.25),\n",
    "    tf.keras.layers.Conv2D(64, (3, 3), activation='relu', padding='same'),\n",
    "    tf.keras.layers.Conv2D(64, (3, 3), activation='relu', padding='same'),\n",
    "    tf.keras.layers.MaxPooling2D((2, 2)),\n",
    "    tf.keras.layers.Dropout(0.25),\n",
    "    tf.keras.layers.Flatten(),\n",
    "    tf.keras.layers.Dense(512, activation='relu'),\n",
    "    tf.keras.layers.Dropout(0.5),\n",
    "    tf.keras.layers.Dense(10, activation='softmax')\n",
    "])\n",
    "\n",
    "# Compile the model\n",
    "model.compile(optimizer='adam',\n",
    "              loss='categorical_crossentropy',\n",
    "              metrics=['accuracy'])\n",
    "\n",
    "# Define data augmentation\n",
    "data_augmentation = tf.keras.Sequential([\n",
    "    tf.keras.layers.experimental.preprocessing.RandomFlip(\"horizontal\"),\n",
    "    tf.keras.layers.experimental.preprocessing.RandomRotation(0.1),\n",
    "    tf.keras.layers.experimental.preprocessing.RandomZoom(0.1)\n",
    "])\n",
    "\n",
    "# Apply data augmentation and train the model\n",
    "history = model.fit(data_augmentation(x_train), y_train, batch_size=64, epochs=50, validation_data=(x_test, y_test))\n"
   ]
  },
  {
   "cell_type": "code",
   "execution_count": null,
   "metadata": {},
   "outputs": [],
   "source": [
    "# Access training history\n",
    "print(history.history.keys())\n",
    "\n",
    "# Example: Plot training loss and accuracy\n",
    "import matplotlib.pyplot as plt\n",
    "\n",
    "plt.plot(history.history['loss'])\n",
    "plt.plot(history.history['accuracy'])\n",
    "plt.xlabel('Epochs')\n",
    "plt.ylabel('Value')\n",
    "plt.legend(['Loss', 'Accuracy'])\n",
    "plt.show()"
   ]
  },
  {
   "attachments": {},
   "cell_type": "markdown",
   "metadata": {},
   "source": [
    "\n",
    "These examples provide a glimpse into the capabilities of TensorFlow. The library offers much more, including support for custom models, advanced optimization techniques, model deployment, and integration with other frameworks and tools. TensorFlow's extensive documentation and resources can guide you through further exploration and development with TensorFlow."
   ]
  }
 ],
 "metadata": {
  "kernelspec": {
   "display_name": "Python 3",
   "language": "python",
   "name": "python3"
  },
  "language_info": {
   "codemirror_mode": {
    "name": "ipython",
    "version": 3
   },
   "file_extension": ".py",
   "mimetype": "text/x-python",
   "name": "python",
   "nbconvert_exporter": "python",
   "pygments_lexer": "ipython3",
   "version": "3.10.7"
  },
  "orig_nbformat": 4
 },
 "nbformat": 4,
 "nbformat_minor": 2
}
