{
 "cells": [
  {
   "attachments": {},
   "cell_type": "markdown",
   "metadata": {},
   "source": [
    "# Pandas\n",
    "Pandas is a powerful Python library for data manipulation and analysis. It provides data structures and functions to efficiently handle structured data, such as tabular data, time series, and more. Let's explore some key features of Pandas with examples:\n"
   ]
  },
  {
   "attachments": {},
   "cell_type": "markdown",
   "metadata": {},
   "source": [
    "1. Importing Pandas:"
   ]
  },
  {
   "cell_type": "code",
   "execution_count": 1,
   "metadata": {},
   "outputs": [],
   "source": [
    "import pandas as pd"
   ]
  },
  {
   "attachments": {},
   "cell_type": "markdown",
   "metadata": {},
   "source": [
    "2. Creating a DataFrame:"
   ]
  },
  {
   "cell_type": "code",
   "execution_count": 2,
   "metadata": {},
   "outputs": [
    {
     "name": "stdout",
     "output_type": "stream",
     "text": [
      "   Name  Age      City\n",
      "0  John   25  New York\n",
      "1  Emma   28    London\n",
      "2  Ryan   32    Sydney\n"
     ]
    }
   ],
   "source": [
    "data = {'Name': ['John', 'Emma', 'Ryan'],\n",
    "        'Age': [25, 28, 32],\n",
    "        'City': ['New York', 'London', 'Sydney']}\n",
    "df = pd.DataFrame(data)\n",
    "print(df)"
   ]
  },
  {
   "attachments": {},
   "cell_type": "markdown",
   "metadata": {},
   "source": [
    "3. Accessing and Manipulating Data:"
   ]
  },
  {
   "cell_type": "code",
   "execution_count": 3,
   "metadata": {},
   "outputs": [
    {
     "name": "stdout",
     "output_type": "stream",
     "text": [
      "0    John\n",
      "1    Emma\n",
      "2    Ryan\n",
      "Name: Name, dtype: object\n",
      "0    25\n",
      "1    28\n",
      "2    32\n",
      "Name: Age, dtype: int64\n",
      "Name        John\n",
      "Age           25\n",
      "City    New York\n",
      "Name: 0, dtype: object\n",
      "   Name  Age    City\n",
      "1  Emma   28  London\n",
      "2  Ryan   32  Sydney\n",
      "   Name  Age      City Profession\n",
      "0  John   25  New York   Engineer\n",
      "1  Emma   28    London    Manager\n",
      "2  Ryan   32    Sydney     Doctor\n"
     ]
    }
   ],
   "source": [
    "# Accessing columns\n",
    "print(df['Name'])   # Access 'Name' column\n",
    "print(df.Age)       # Access 'Age' column using attribute-style access\n",
    "\n",
    "# Accessing rows\n",
    "print(df.iloc[0])   # Access first row\n",
    "\n",
    "# Filtering data\n",
    "adults = df[df['Age'] >= 28]   # Filter rows where Age is greater than or equal to 28\n",
    "print(adults)\n",
    "\n",
    "# Adding a new column\n",
    "df['Profession'] = ['Engineer', 'Manager', 'Doctor']\n",
    "print(df)"
   ]
  },
  {
   "attachments": {},
   "cell_type": "markdown",
   "metadata": {},
   "source": [
    "4. Data Summary:"
   ]
  },
  {
   "cell_type": "code",
   "execution_count": 4,
   "metadata": {},
   "outputs": [
    {
     "name": "stdout",
     "output_type": "stream",
     "text": [
      "             Age\n",
      "count   3.000000\n",
      "mean   28.333333\n",
      "std     3.511885\n",
      "min    25.000000\n",
      "25%    26.500000\n",
      "50%    28.000000\n",
      "75%    30.000000\n",
      "max    32.000000\n",
      "New York    1\n",
      "London      1\n",
      "Sydney      1\n",
      "Name: City, dtype: int64\n",
      "           Age\n",
      "City          \n",
      "London    28.0\n",
      "New York  25.0\n",
      "Sydney    32.0\n"
     ]
    },
    {
     "name": "stderr",
     "output_type": "stream",
     "text": [
      "C:\\Users\\Barzan\\AppData\\Local\\Temp\\ipykernel_17148\\1050825649.py:9: FutureWarning: The default value of numeric_only in DataFrameGroupBy.mean is deprecated. In a future version, numeric_only will default to False. Either specify numeric_only or select only columns which should be valid for the function.\n",
      "  print(city_group.mean())    # Calculate mean values by City\n"
     ]
    }
   ],
   "source": [
    "# Basic statistics\n",
    "print(df.describe())\n",
    "\n",
    "# Counting unique values\n",
    "print(df['City'].value_counts())\n",
    "\n",
    "# Grouping and aggregation\n",
    "city_group = df.groupby('City')\n",
    "print(city_group.mean())    # Calculate mean values by City"
   ]
  },
  {
   "attachments": {},
   "cell_type": "markdown",
   "metadata": {},
   "source": [
    "5. Reading and Writing Data:"
   ]
  },
  {
   "cell_type": "code",
   "execution_count": 7,
   "metadata": {},
   "outputs": [
    {
     "name": "stdout",
     "output_type": "stream",
     "text": [
      "   Name  Age      City Profession\n",
      "0  John   25  New York   Engineer\n",
      "1  Emma   28    London    Manager\n",
      "2  Ryan   32    Sydney     Doctor\n"
     ]
    }
   ],
   "source": [
    "# Reading from a CSV file\n",
    "data = pd.read_csv('./data/data.csv')\n",
    "print(data)\n",
    "# Writing to a CSV file\n",
    "df.to_csv('./data/output.csv', index=False)"
   ]
  },
  {
   "attachments": {},
   "cell_type": "markdown",
   "metadata": {},
   "source": [
    "These are just a few examples of the features provided by Pandas. It also offers advanced functionality for data alignment, merging and joining datasets, handling missing data, time series analysis, and more. Pandas is widely used in data exploration, data preprocessing, and data analysis tasks in various domains."
   ]
  }
 ],
 "metadata": {
  "kernelspec": {
   "display_name": "Python 3",
   "language": "python",
   "name": "python3"
  },
  "language_info": {
   "codemirror_mode": {
    "name": "ipython",
    "version": 3
   },
   "file_extension": ".py",
   "mimetype": "text/x-python",
   "name": "python",
   "nbconvert_exporter": "python",
   "pygments_lexer": "ipython3",
   "version": "3.10.7"
  },
  "orig_nbformat": 4
 },
 "nbformat": 4,
 "nbformat_minor": 2
}
