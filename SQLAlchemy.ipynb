{
 "cells": [
  {
   "attachments": {},
   "cell_type": "markdown",
   "metadata": {},
   "source": [
    "# SQLAlchemy"
   ]
  },
  {
   "attachments": {},
   "cell_type": "markdown",
   "metadata": {},
   "source": [
    "SQLAlchemy is a popular Python library that provides a high-level, object-oriented interface for interacting with relational databases. It simplifies database operations by abstracting away the low-level SQL queries and allows you to work with databases using Python objects and methods. Here's an explanation of SQLAlchemy along with some examples:"
   ]
  },
  {
   "attachments": {},
   "cell_type": "markdown",
   "metadata": {},
   "source": [
    "### 0. Installation:\n",
    "\n",
    "   Before getting started, you need to install SQLAlchemy. You can install it using pip:\n",
    "\n",
    "   ```\n",
    "   pip install SQLAlchemy\n",
    "   ```"
   ]
  },
  {
   "attachments": {},
   "cell_type": "markdown",
   "metadata": {},
   "source": [
    "### 1. Creating a Database Engine:\n",
    "\n",
    "To start using SQLAlchemy, you need to create a database engine that connects to your database. The engine acts as a gateway to the database and handles the communication between your Python code and the database. Here's an example of creating an engine for a SQLite database:"
   ]
  },
  {
   "cell_type": "code",
   "execution_count": 1,
   "metadata": {},
   "outputs": [],
   "source": [
    "from sqlalchemy import create_engine\n",
    "\n",
    "# Create an engine\n",
    "engine = create_engine('sqlite:///database.db')\n"
   ]
  },
  {
   "attachments": {},
   "cell_type": "markdown",
   "metadata": {},
   "source": [
    "### 2. Defining Database Tables:\n",
    "SQLAlchemy uses Python classes to represent database tables. Each class is called a \"model\" and corresponds to a table in the database. You define the table structure by creating subclasses of the declarative_base() class. Here's an example of defining a simple \"User\" table:"
   ]
  },
  {
   "cell_type": "code",
   "execution_count": 2,
   "metadata": {},
   "outputs": [],
   "source": [
    "from sqlalchemy import Column, Integer, String\n",
    "from sqlalchemy.orm import declarative_base\n",
    "\n",
    "# Create a base class\n",
    "Base = declarative_base()\n",
    "\n",
    "# Define the User model\n",
    "class User(Base):\n",
    "    __tablename__ = 'users'\n",
    "    id = Column(Integer, primary_key=True)\n",
    "    name = Column(String)\n",
    "    email = Column(String)\n"
   ]
  },
  {
   "attachments": {},
   "cell_type": "markdown",
   "metadata": {},
   "source": [
    "### 3. Creating Database Tables:\n",
    "After defining your models, you need to create the corresponding tables in the database. SQLAlchemy provides a create_all() method to generate the necessary SQL statements and execute them against the database. Here's an example of creating tables based on the defined models:"
   ]
  },
  {
   "cell_type": "code",
   "execution_count": 3,
   "metadata": {},
   "outputs": [],
   "source": [
    "# Create the tables\n",
    "Base.metadata.create_all(engine)\n"
   ]
  },
  {
   "attachments": {},
   "cell_type": "markdown",
   "metadata": {},
   "source": [
    "### 4. Performing Database Operations:\n",
    "Once the tables are created, you can perform various database operations such as inserting, querying, updating, and deleting data. SQLAlchemy provides an intuitive API to work with databases. Here are some examples:"
   ]
  },
  {
   "attachments": {},
   "cell_type": "markdown",
   "metadata": {},
   "source": [
    "- Inserting Data:"
   ]
  },
  {
   "cell_type": "code",
   "execution_count": 4,
   "metadata": {},
   "outputs": [],
   "source": [
    "from sqlalchemy.orm import sessionmaker\n",
    "\n",
    "# Create a session factory\n",
    "Session = sessionmaker(bind=engine)\n",
    "session = Session()\n",
    "\n",
    "# Create a new user\n",
    "new_user = User(name='Barzan Saeedpour', email='barzansaeedpour@gmail.com')\n",
    "\n",
    "# Add the user to the session\n",
    "session.add(new_user)\n",
    "\n",
    "# Commit the session to persist the changes\n",
    "session.commit()\n"
   ]
  },
  {
   "attachments": {},
   "cell_type": "markdown",
   "metadata": {},
   "source": [
    "- Querying Data:"
   ]
  },
  {
   "cell_type": "code",
   "execution_count": 5,
   "metadata": {},
   "outputs": [
    {
     "name": "stdout",
     "output_type": "stream",
     "text": [
      "Barzan Saeedpour\n"
     ]
    }
   ],
   "source": [
    "# Retrieve all users\n",
    "users = session.query(User).all()\n",
    "\n",
    "# Filter users based on a condition\n",
    "filtered_users = session.query(User).filter(User.name.like('%za%')).all()\n",
    "\n",
    "# Perform complex queries\n",
    "# complex_query = session.query(User).join(AnotherModel).filter(AnotherModel.some_field == 'value').all()\n",
    "\n",
    "for user in filtered_users:\n",
    "    print(user.name)"
   ]
  },
  {
   "attachments": {},
   "cell_type": "markdown",
   "metadata": {},
   "source": [
    "- Updating Data:"
   ]
  },
  {
   "cell_type": "code",
   "execution_count": 6,
   "metadata": {},
   "outputs": [],
   "source": [
    "# Retrieve a user\n",
    "user = session.query(User).first()\n",
    "# user = session.query(User).filter_by(id=1).first()\n",
    "\n",
    "# Update the user's email\n",
    "user.email = 'new_email@example.com'\n",
    "\n",
    "# Commit the session to persist the changes\n",
    "session.commit()\n"
   ]
  },
  {
   "attachments": {},
   "cell_type": "markdown",
   "metadata": {},
   "source": [
    "- Deleting Data:"
   ]
  },
  {
   "cell_type": "code",
   "execution_count": 7,
   "metadata": {},
   "outputs": [],
   "source": [
    "# Retrieve a user\n",
    "user = session.query(User).first()\n",
    "\n",
    "# Delete the user\n",
    "session.delete(user)\n",
    "\n",
    "# Commit the session to persist the changes\n",
    "session.commit()\n"
   ]
  },
  {
   "attachments": {},
   "cell_type": "markdown",
   "metadata": {},
   "source": [
    "Close the session to release the database connection:"
   ]
  },
  {
   "cell_type": "code",
   "execution_count": 8,
   "metadata": {},
   "outputs": [],
   "source": [
    "session.close()"
   ]
  },
  {
   "attachments": {},
   "cell_type": "markdown",
   "metadata": {},
   "source": [
    "These are just basic examples of how to use SQLAlchemy. The library provides many more features and options for working with databases, such as relationships between tables, transactions"
   ]
  }
 ],
 "metadata": {
  "kernelspec": {
   "display_name": "Python 3",
   "language": "python",
   "name": "python3"
  },
  "language_info": {
   "codemirror_mode": {
    "name": "ipython",
    "version": 3
   },
   "file_extension": ".py",
   "mimetype": "text/x-python",
   "name": "python",
   "nbconvert_exporter": "python",
   "pygments_lexer": "ipython3",
   "version": "3.10.7"
  },
  "orig_nbformat": 4
 },
 "nbformat": 4,
 "nbformat_minor": 2
}
