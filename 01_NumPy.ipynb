{
 "cells": [
  {
   "attachments": {},
   "cell_type": "markdown",
   "metadata": {},
   "source": [
    "NumPy (Numerical Python) is a fundamental library for scientific computing in Python. It provides a powerful data structure called `ndarray` (N-dimensional array) that allows efficient manipulation of large arrays and matrices of numeric data.\n",
    "\n",
    "### Importing NumPy\n",
    "\n",
    "To use NumPy, you need to import the library. Conventionally, it is imported under the alias `np`:\n"
   ]
  },
  {
   "cell_type": "code",
   "execution_count": 2,
   "metadata": {},
   "outputs": [],
   "source": [
    "import numpy as np"
   ]
  },
  {
   "attachments": {},
   "cell_type": "markdown",
   "metadata": {},
   "source": [
    "### Creating NumPy Arrays\n",
    "\n",
    "NumPy arrays are created using the `np.array()` function. You can pass a Python list, tuple, or any iterable object to create an array:\n"
   ]
  },
  {
   "cell_type": "code",
   "execution_count": 3,
   "metadata": {},
   "outputs": [
    {
     "name": "stdout",
     "output_type": "stream",
     "text": [
      "[1 2 3 4 5]\n",
      "[[1 2 3]\n",
      " [4 5 6]]\n"
     ]
    }
   ],
   "source": [
    "\n",
    "import numpy as np\n",
    "\n",
    "# Create a 1D array\n",
    "arr1 = np.array([1, 2, 3, 4, 5])\n",
    "print(arr1)\n",
    "# Output: [1 2 3 4 5]\n",
    "\n",
    "# Create a 2D array\n",
    "arr2 = np.array([[1, 2, 3], [4, 5, 6]])\n",
    "print(arr2)\n",
    "# Output: [[1 2 3]\n",
    "#          [4 5 6]]\n"
   ]
  },
  {
   "attachments": {},
   "cell_type": "markdown",
   "metadata": {},
   "source": [
    "### Array Attributes\n",
    "\n",
    "NumPy arrays have various attributes that provide information about the array:\n"
   ]
  },
  {
   "cell_type": "code",
   "execution_count": 4,
   "metadata": {},
   "outputs": [
    {
     "name": "stdout",
     "output_type": "stream",
     "text": [
      "(5,)\n",
      "1\n",
      "int32\n"
     ]
    }
   ],
   "source": [
    "\n",
    "import numpy as np\n",
    "\n",
    "arr = np.array([1, 2, 3, 4, 5])\n",
    "\n",
    "# Shape of the array\n",
    "print(arr.shape)\n",
    "# Output: (5,)\n",
    "\n",
    "# Number of dimensions\n",
    "print(arr.ndim)\n",
    "# Output: 1\n",
    "\n",
    "# Data type of the array\n",
    "print(arr.dtype)\n",
    "# Output: int64\n"
   ]
  },
  {
   "attachments": {},
   "cell_type": "markdown",
   "metadata": {},
   "source": [
    "\n",
    "### Array Operations\n",
    "\n",
    "NumPy arrays support element-wise operations, which allows you to perform mathematical operations on entire arrays without the need for loops:\n"
   ]
  },
  {
   "cell_type": "code",
   "execution_count": 5,
   "metadata": {},
   "outputs": [
    {
     "name": "stdout",
     "output_type": "stream",
     "text": [
      "[ 6  7  8  9 10]\n",
      "[ 2  4  6  8 10]\n",
      "[1.         1.41421356 1.73205081 2.         2.23606798]\n"
     ]
    }
   ],
   "source": [
    "\n",
    "import numpy as np\n",
    "\n",
    "arr = np.array([1, 2, 3, 4, 5])\n",
    "\n",
    "# Addition\n",
    "result = arr + 5\n",
    "print(result)\n",
    "# Output: [ 6  7  8  9 10]\n",
    "\n",
    "# Multiplication\n",
    "result = arr * 2\n",
    "print(result)\n",
    "# Output: [ 2  4  6  8 10]\n",
    "\n",
    "# Element-wise square root\n",
    "result = np.sqrt(arr)\n",
    "print(result)\n",
    "# Output: [1.         1.41421356 1.73205081 2.         2.23606798]\n"
   ]
  },
  {
   "attachments": {},
   "cell_type": "markdown",
   "metadata": {},
   "source": [
    "### Array Indexing and Slicing\n",
    "\n",
    "NumPy arrays can be indexed and sliced similar to Python lists:\n"
   ]
  },
  {
   "cell_type": "code",
   "execution_count": 6,
   "metadata": {},
   "outputs": [
    {
     "name": "stdout",
     "output_type": "stream",
     "text": [
      "1\n",
      "[3 4]\n",
      "[ 1 10 20  4  5]\n"
     ]
    }
   ],
   "source": [
    "\n",
    "\n",
    "\n",
    "import numpy as np\n",
    "\n",
    "arr = np.array([1, 2, 3, 4, 5])\n",
    "\n",
    "# Accessing individual elements\n",
    "print(arr[0])\n",
    "# Output: 1\n",
    "\n",
    "# Slicing the array\n",
    "print(arr[2:4])\n",
    "# Output: [3 4]\n",
    "\n",
    "# Assigning new values to a slice\n",
    "arr[1:3] = [10, 20]\n",
    "print(arr)\n",
    "# Output: [ 1 10 20  4  5]\n",
    "\n"
   ]
  },
  {
   "attachments": {},
   "cell_type": "markdown",
   "metadata": {},
   "source": [
    "\n",
    "\n",
    "### Array Shape Manipulation\n",
    "\n",
    "NumPy provides several functions to manipulate the shape of arrays:\n"
   ]
  },
  {
   "cell_type": "code",
   "execution_count": 7,
   "metadata": {},
   "outputs": [
    {
     "name": "stdout",
     "output_type": "stream",
     "text": [
      "[[1 4]\n",
      " [2 5]\n",
      " [3 6]]\n",
      "[[1 2]\n",
      " [3 4]\n",
      " [5 6]]\n"
     ]
    }
   ],
   "source": [
    "\n",
    "import numpy as np\n",
    "\n",
    "arr = np.array([[1, 2, 3], [4, 5, 6]])\n",
    "\n",
    "# Transpose of the array\n",
    "print(arr.T)\n",
    "# Output: [[1 4]\n",
    "#          [2 5]\n",
    "#          [3 6]]\n",
    "\n",
    "# Reshaping the array\n",
    "new_shape = (3, 2)\n",
    "print(arr.reshape(new_shape))\n",
    "# Output: [[1 2]\n",
    "#          [3 4]\n",
    "#          [5 6]]\n"
   ]
  },
  {
   "attachments": {},
   "cell_type": "markdown",
   "metadata": {},
   "source": [
    "These are just some of the basic features and functionalities of NumPy. There are many more advanced features and functions available in NumPy, such as mathematical operations, statistical functions, linear algebra operations, and more.\n",
    "\n",
    "Here are a few additional examples:\n",
    "\n",
    "### Mathematical Operations\n",
    "\n",
    "NumPy provides a wide range of mathematical functions that operate element-wise on arrays:\n"
   ]
  },
  {
   "cell_type": "code",
   "execution_count": 8,
   "metadata": {},
   "outputs": [
    {
     "name": "stdout",
     "output_type": "stream",
     "text": [
      "15\n",
      "5\n",
      "1\n",
      "[  2.71828183   7.3890561   20.08553692  54.59815003 148.4131591 ]\n"
     ]
    }
   ],
   "source": [
    "\n",
    "import numpy as np\n",
    "\n",
    "arr = np.array([1, 2, 3, 4, 5])\n",
    "\n",
    "# Sum of all elements\n",
    "print(np.sum(arr))\n",
    "# Output: 15\n",
    "\n",
    "# Maximum and minimum values\n",
    "print(np.max(arr))\n",
    "# Output: 5\n",
    "print(np.min(arr))\n",
    "# Output: 1\n",
    "\n",
    "# Element-wise exponential function\n",
    "result = np.exp(arr)\n",
    "print(result)\n",
    "# Output: [  2.71828183   7.3890561   20.08553692  54.59815003 148.4131591 ]\n"
   ]
  },
  {
   "attachments": {},
   "cell_type": "markdown",
   "metadata": {},
   "source": [
    "\n",
    "### Statistical Functions\n",
    "\n",
    "NumPy offers a variety of statistical functions to analyze data:\n"
   ]
  },
  {
   "cell_type": "code",
   "execution_count": 9,
   "metadata": {},
   "outputs": [
    {
     "name": "stdout",
     "output_type": "stream",
     "text": [
      "3.0\n",
      "1.4142135623730951\n",
      "[[1. 1.]\n",
      " [1. 1.]]\n"
     ]
    }
   ],
   "source": [
    "\n",
    "import numpy as np\n",
    "\n",
    "arr = np.array([1, 2, 3, 4, 5])\n",
    "\n",
    "# Mean of the array\n",
    "print(np.mean(arr))\n",
    "# Output: 3.0\n",
    "\n",
    "# Standard deviation\n",
    "print(np.std(arr))\n",
    "# Output: 1.4142135623730951\n",
    "\n",
    "# Correlation coefficient\n",
    "arr2 = np.array([2, 4, 6, 8, 10])\n",
    "print(np.corrcoef(arr, arr2))\n",
    "# Output: [[1. 1.]\n",
    "#          [1. 1.]]\n"
   ]
  },
  {
   "attachments": {},
   "cell_type": "markdown",
   "metadata": {},
   "source": [
    "### Linear Algebra Operations\n",
    "\n",
    "NumPy provides extensive support for linear algebra operations:\n"
   ]
  },
  {
   "cell_type": "code",
   "execution_count": 10,
   "metadata": {},
   "outputs": [
    {
     "name": "stdout",
     "output_type": "stream",
     "text": [
      "[[19 22]\n",
      " [43 50]]\n",
      "-2.0000000000000004\n",
      "[-0.37228132  5.37228132]\n",
      "[[-0.82456484 -0.41597356]\n",
      " [ 0.56576746 -0.90937671]]\n"
     ]
    }
   ],
   "source": [
    "import numpy as np\n",
    "\n",
    "arr1 = np.array([[1, 2], [3, 4]])\n",
    "arr2 = np.array([[5, 6], [7, 8]])\n",
    "\n",
    "# Matrix multiplication\n",
    "result = np.matmul(arr1, arr2)\n",
    "print(result)\n",
    "# Output: [[19 22]\n",
    "#          [43 50]]\n",
    "\n",
    "# Matrix determinant\n",
    "print(np.linalg.det(arr1))\n",
    "# Output: -2.0\n",
    "\n",
    "# Eigenvalues and eigenvectors\n",
    "eigenvalues, eigenvectors = np.linalg.eig(arr1)\n",
    "print(eigenvalues)\n",
    "# Output: [-0.37228132  5.37228132]\n",
    "print(eigenvectors)\n",
    "# Output: [[-0.82456484 -0.41597356]\n",
    "#          [ 0.56576746 -0.90937671]]"
   ]
  },
  {
   "attachments": {},
   "cell_type": "markdown",
   "metadata": {},
   "source": [
    "These examples provide just a glimpse of what can be achieved with NumPy. The library offers a wide range of functions, tools, and capabilities for efficient numerical computing and data manipulation in Python."
   ]
  },
  {
   "cell_type": "code",
   "execution_count": null,
   "metadata": {},
   "outputs": [],
   "source": []
  }
 ],
 "metadata": {
  "kernelspec": {
   "display_name": "Python 3",
   "language": "python",
   "name": "python3"
  },
  "language_info": {
   "codemirror_mode": {
    "name": "ipython",
    "version": 3
   },
   "file_extension": ".py",
   "mimetype": "text/x-python",
   "name": "python",
   "nbconvert_exporter": "python",
   "pygments_lexer": "ipython3",
   "version": "3.10.7"
  },
  "orig_nbformat": 4
 },
 "nbformat": 4,
 "nbformat_minor": 2
}
