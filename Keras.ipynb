{
 "cells": [
  {
   "attachments": {},
   "cell_type": "markdown",
   "metadata": {},
   "source": [
    "# Keras"
   ]
  },
  {
   "attachments": {},
   "cell_type": "markdown",
   "metadata": {},
   "source": [
    "Keras is a high-level deep learning library written in Python. It provides a user-friendly interface for building and training neural networks. Keras is built on top of other deep learning frameworks such as TensorFlow and Theano, allowing you to leverage their computational capabilities while providing a simpler and more intuitive API."
   ]
  },
  {
   "attachments": {},
   "cell_type": "markdown",
   "metadata": {},
   "source": [
    "### what is the difference between keras and tensorflow?\n",
    "Keras is a high-level API that provides a simplified interface for building and training neural networks, while TensorFlow is a comprehensive deep learning framework that offers more flexibility and control, along with a broader range of functionalities beyond deep learning.\n",
    " \n",
    "**Keras has been integrated as the default high-level API in TensorFlow, allowing users to leverage the benefits of both libraries.**"
   ]
  },
  {
   "attachments": {},
   "cell_type": "markdown",
   "metadata": {},
   "source": [
    "Here's an example that demonstrates how to use Keras to build a simple neural network for image classification:\n",
    "\n",
    "In this example, we use the MNIST dataset, which consists of grayscale images of handwritten digits. Here's a breakdown of the steps:\n",
    "\n",
    "1. Import the necessary modules: numpy for array manipulation, Sequential to define a sequential model, Dense for fully connected layers, mnist to load the MNIST dataset, and to_categorical to one-hot encode the labels.\n",
    "\n",
    "2. Load and preprocess the data: We load the MNIST dataset, reshape the images to a flat vector, and scale the pixel values between 0 and 1. We also one-hot encode the labels.\n",
    "\n",
    "3. Build the model: We create a sequential model and add two layers. The first layer is a dense layer with 128 units and ReLU activation function. The input shape is defined as (28 * 28,), corresponding to the flattened image. The second layer is a dense layer with 10 units and softmax activation, representing the output classes.\n",
    "\n",
    "4. Compile the model: We specify the optimizer, loss function, and evaluation metric for the model. In this case, we use the Adam optimizer, categorical cross-entropy loss (suitable for multi-class classification), and track accuracy as the metric.\n",
    "\n",
    "5. Train the model: We train the model on the training data using the fit() method. We specify the batch size, number of epochs, and provide the validation data for evaluation during training.\n",
    "\n",
    "6. Evaluate the model: We evaluate the trained model on the test data using the evaluate() method and print the test loss and accuracy."
   ]
  },
  {
   "cell_type": "code",
   "execution_count": 2,
   "metadata": {},
   "outputs": [
    {
     "name": "stdout",
     "output_type": "stream",
     "text": [
      "Epoch 1/5\n",
      "1875/1875 [==============================] - 7s 3ms/step - loss: 0.2613 - accuracy: 0.9245 - val_loss: 0.1471 - val_accuracy: 0.9563\n",
      "Epoch 2/5\n",
      "1875/1875 [==============================] - 6s 3ms/step - loss: 0.1179 - accuracy: 0.9651 - val_loss: 0.1027 - val_accuracy: 0.9697\n",
      "Epoch 3/5\n",
      "1875/1875 [==============================] - 7s 4ms/step - loss: 0.0816 - accuracy: 0.9757 - val_loss: 0.0825 - val_accuracy: 0.9733\n",
      "Epoch 4/5\n",
      "1875/1875 [==============================] - 7s 4ms/step - loss: 0.0603 - accuracy: 0.9818 - val_loss: 0.0811 - val_accuracy: 0.9735\n",
      "Epoch 5/5\n",
      "1875/1875 [==============================] - 7s 4ms/step - loss: 0.0474 - accuracy: 0.9857 - val_loss: 0.0688 - val_accuracy: 0.9788\n",
      "313/313 [==============================] - 1s 3ms/step - loss: 0.0688 - accuracy: 0.9788\n",
      "Test loss: 0.06879374384880066\n",
      "Test accuracy: 0.9787999987602234\n"
     ]
    }
   ],
   "source": [
    "import numpy as np\n",
    "from keras.models import Sequential\n",
    "from keras.layers import Dense, Flatten\n",
    "from keras.datasets import mnist\n",
    "from keras.utils import to_categorical\n",
    "\n",
    "# Load the MNIST dataset\n",
    "(X_train, y_train), (X_test, y_test) = mnist.load_data()\n",
    "\n",
    "# Preprocess the data\n",
    "X_train = X_train.astype('float32') / 255.0\n",
    "X_test = X_test.astype('float32') / 255.0\n",
    "y_train = to_categorical(y_train)\n",
    "y_test = to_categorical(y_test)\n",
    "\n",
    "# Build the model\n",
    "model = Sequential()\n",
    "model.add(Flatten(input_shape=(28, 28)))\n",
    "model.add(Dense(128, activation='relu'))\n",
    "model.add(Dense(10, activation='softmax'))\n",
    "\n",
    "# Compile the model\n",
    "model.compile(optimizer='adam', loss='categorical_crossentropy', metrics=['accuracy'])\n",
    "\n",
    "# Train the model\n",
    "model.fit(X_train, y_train, epochs=5, batch_size=32, validation_data=(X_test, y_test))\n",
    "\n",
    "# Evaluate the model\n",
    "loss, accuracy = model.evaluate(X_test, y_test)\n",
    "print(\"Test loss:\", loss)\n",
    "print(\"Test accuracy:\", accuracy)\n"
   ]
  },
  {
   "attachments": {},
   "cell_type": "markdown",
   "metadata": {},
   "source": [
    "This example illustrates the key steps involved in using Keras to build, train, and evaluate a neural network for image classification."
   ]
  },
  {
   "cell_type": "code",
   "execution_count": null,
   "metadata": {},
   "outputs": [],
   "source": []
  }
 ],
 "metadata": {
  "kernelspec": {
   "display_name": "Python 3",
   "language": "python",
   "name": "python3"
  },
  "language_info": {
   "codemirror_mode": {
    "name": "ipython",
    "version": 3
   },
   "file_extension": ".py",
   "mimetype": "text/x-python",
   "name": "python",
   "nbconvert_exporter": "python",
   "pygments_lexer": "ipython3",
   "version": "3.10.7"
  },
  "orig_nbformat": 4
 },
 "nbformat": 4,
 "nbformat_minor": 2
}
